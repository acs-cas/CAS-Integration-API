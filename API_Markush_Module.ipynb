{
 "cells": [
  {
   "cell_type": "markdown",
   "id": "791d6764-e1e1-40f1-aadd-03f8bf31fa54",
   "metadata": {},
   "source": [
    "# Markush Module\n",
    "The CAS API supports workflow integration, chemical research, machine learning, and cheminformatics.  Learn more about workflow integration solutions from __[CAS Custom Services℠](https://www.cas.org/solutions/cas-custom-services/workflow-integration).__\n",
    "\n",
    "This documentation is provided as a demonstration of some of the capabilities available in the Markush Module of the CAS API.  Please contact CAS Custom Services for more information about licensing.  The __[Swagger page](https://helium.cas.org/integration/v1/api-docs/)__ for endpoints are also available as reference.\n",
    "\n",
    "We will be accessing ([Registry](https://www.cas.org/cas-data/cas-registry) and [MARPAT](https://www.cas.org/support/documentation/markush))\n",
    "\n",
    "__[Terms of service](https://www.cas.org/sites/default/files/documents/cas-api-terms.pdf)__\n",
    "\n",
    "### Table of Contents\n",
    "[Getting Started](#Getting_Started)\n",
    "\n",
    "[Novelty Search](#Novelty_Search)\n",
    "- [Construct Registry Query](#Construct_Registry_Query)\n",
    "- [Handling Multiple Pages](#Multipage)\n",
    "- [Constructing a Markush Query](#Markush_Query)\n",
    "- [Display Results of Markush Search](#Display_Markush_Results)\n",
    "\n",
    "[Appendix](#Appendix)\n",
    "- [Markush Request](#Markush_Request)\n",
    "- [Markush Response](#Markush_Response)\n",
    "- [Markush Summary JSON](#Markush_Summary)"
   ]
  },
  {
   "cell_type": "markdown",
   "id": "cf38ccc882d2716d",
   "metadata": {},
   "source": [
    "<a id=\"Getting_Started\"></a>\n",
    "## Getting Started\n",
    "<a id=\"Authentication\"></a>\n",
    "### Authentication\n",
    "__To begin utilizing the CAS API, you will first need valid credentials.__  The CAS API handles authorization via __[OAuth2.0](https://oauth.net/2/)__.  The easiest way to authenticate is with a _client ID_ and _client secret_ which can be provided by CAS Custom Services.\n",
    "\n",
    "To make any request of the API you will need an access token. The access token represents the authorization to access specific parts of CAS' data.  There are several modules available to CAS Integration API users.  Depending on your specific setup, you will have access to all or some of the following capabilities.  For question about your modules, contact CAS Custom Services.\n",
    "<a id=\"Import_Libraries\"></a>\n",
    "### Import libraries"
   ]
  },
  {
   "cell_type": "code",
   "execution_count": null,
   "id": "8cfc632f6d4fad1e",
   "metadata": {
    "ExecuteTime": {
     "end_time": "2025-03-06T04:31:06.883807Z",
     "start_time": "2025-03-06T04:31:06.842978600Z"
    }
   },
   "outputs": [],
   "source": [
    "import http.client\n",
    "import requests\n",
    "from pprint import pprint\n",
    "import json\n",
    "import urllib\n",
    "from IPython.core.display import SVG"
   ]
  },
  {
   "cell_type": "markdown",
   "id": "d1e417963c6bdbc9",
   "metadata": {},
   "source": [
    "<a id=\"Set_Credentials\"></a>\n",
    "### Set your supplied credentials from CAS\n",
    "\n",
    "You will need to enter your companies' client id and secret provided by CAS Custom Services."
   ]
  },
  {
   "cell_type": "code",
   "execution_count": null,
   "id": "2f758a7202911111",
   "metadata": {
    "ExecuteTime": {
     "end_time": "2025-03-06T04:31:06.885807Z",
     "start_time": "2025-03-06T04:31:06.847481700Z"
    }
   },
   "outputs": [],
   "source": [
    "# Input client ID and client Secret credentials supplied to you by CAS\n",
    "\n",
    "clientID = input(\"Please input your client ID.\")\n",
    "secret = input(\"Please input your client secret.\")"
   ]
  },
  {
   "cell_type": "markdown",
   "id": "c48b670b24f7bc76",
   "metadata": {},
   "source": [
    "<a id=\"Authorization_Method\"></a>\n",
    "### Authorization Method\n",
    "\n",
    "_The recommended method requires a user to access their _client ID_ and  _client secret_  as variables in the code they wish to run the workflow. The workflow requires programmatic submission of the users credentials to obtain an Access Token. This can be used for the duration of the execution of the workflow._\n",
    "\n",
    "_If the workflow is expected to run for a duration of longer than 24 hours, the user must add code that will periodically update the Access token before it expires. Failure to do this may result in some or all of the requests after the 24-hour period returning a 401 error._\n",
    "<a id=\"Request_Access_Token\"></a>\n",
    "> **Request your Access Token** "
   ]
  },
  {
   "cell_type": "markdown",
   "id": "9513d48443f8bb71",
   "metadata": {},
   "source": [
    "**Definitions**\n",
    "> **Client ID** is an Organizational-level ID.  Used to initially validate the Organization of a User of the CAS API.  This ID will be provided by a member of CAS Custom Services upon start of the contract.\n",
    ">\n",
    "> **Client Secret** is an Organizational-level password/secret.  Used to initially authenticate the Organization of User of the CAS API.  This ID will be provided by a member of CAS Custom Services upon start of the contract.\n",
    ">\n",
    "> **Access Token** (_Also known as the Bearer Token_) is a daily token allowing access to the CAS API.  The Access token is passed with a POST or GET request to allow a User to authenticate requests and retrieve data.  This token is valid for _**24 hours**_ from its creation or until a new Access Token is generated via a new request."
   ]
  },
  {
   "cell_type": "code",
   "execution_count": null,
   "id": "7ae23637f0071c8c",
   "metadata": {
    "ExecuteTime": {
     "end_time": "2025-03-06T04:31:07.053302400Z",
     "start_time": "2025-03-06T04:31:06.853807100Z"
    }
   },
   "outputs": [],
   "source": [
    "# specify the content type in the header\n",
    "headers = {'Content-Type': 'application/x-www-form-urlencoded'}\n",
    "\n",
    "# insert credentials specified above into payload sent OAuth\n",
    "payload = ('grant_type=client_credentials&client_id=' + clientID + '&scope=cas_content%20&client_secret='\n",
    "            + secret)\n",
    "\n",
    "# create a connection\n",
    "conn = http.client.HTTPSConnection(\"sso.cas.org\")\n",
    "\n",
    "# make our request\n",
    "conn.request(\"POST\", \"/as/token.oauth2\", payload, headers)\n",
    "\n",
    "# retrieve the response and read it\n",
    "res = conn.getresponse()\n",
    "data = res.read()\n",
    "\n",
    "# read the json and store in a dictionary\n",
    "response = data.decode(\"utf-8\")\n",
    "response_json = json.loads(response)\n",
    "\n",
    "# print POST Response (JSON)\n",
    "pprint(response_json)\n",
    "print()\n",
    "\n",
    "# hold onto this token, we'll need it for future requests to Integration API\n",
    "access_token = response_json['access_token']"
   ]
  },
  {
   "cell_type": "markdown",
   "id": "dd270714-c6db-4bf4-abf2-a2b1c861c52e",
   "metadata": {},
   "source": [
    "<a id=\"Novelty_Search\"></a>\n",
    "## Use Case: Novelty Search\n",
    "\n",
    "We want to determine if there is any prior art are associated with our target molecule.  We will specify our target molecule using SMILES notation.\n",
    "\n",
    "\n",
    "<a id=\"Construct_Registry_Query\"></a>\n",
    "### Construct Registry Query\n",
    "The first thing we are going to do is an \"as drawn\" (drw) search of a substance defined as a _SMILES_ string.  In our request we need to specify the number of results we get back in initial response.  We will do that with a _results window_.  This window is defined by the _offset_ and the _length_.  These will define a window of results we will get back.  Typically, on the initial search you will start with the _offset_ set to 0 (first result) and the _length_ to the number of results you want to get back initially.  _the default value is 0 for offset and 100 for length_\n"
   ]
  },
  {
   "cell_type": "code",
   "execution_count": null,
   "id": "e8377049a700408f",
   "metadata": {
    "ExecuteTime": {
     "end_time": "2025-03-06T04:31:07.055883Z",
     "start_time": "2025-03-06T04:31:07.054302300Z"
    }
   },
   "outputs": [],
   "source": [
    "# make sure our access token is present on requests and that we will receive JSON in return\n",
    "headers = {'Content-Type': 'application/json',\n",
    "           'Authorization': 'Bearer {0}'.format(access_token)}\n",
    "base_url = 'https://helium.cas.org/integration/v1'\n",
    "\n",
    "# using the substance module endpoint for now\n",
    "module = 'substances'\n",
    "\n",
    "# our target structure\n",
    "target_smiles = 'O=C1C2=C(N=CN2C)N(C(=O)N1C)C'\n",
    "\n",
    "#specify a substructure search\n",
    "structure_search_type = 'sub'"
   ]
  },
  {
   "cell_type": "markdown",
   "id": "1314891bab530467",
   "metadata": {},
   "source": [
    "<a id=\"Multipage\"></a>\n",
    "### Handling Multiple Pages"
   ]
  },
  {
   "cell_type": "code",
   "execution_count": null,
   "id": "3631cc14f14ca135",
   "metadata": {
    "ExecuteTime": {
     "end_time": "2025-03-06T04:31:07.280375200Z",
     "start_time": "2025-03-06T04:31:07.059883Z"
    }
   },
   "outputs": [],
   "source": [
    "# let's keep track of the offset\n",
    "offset = 0\n",
    "\n",
    "# define page size\n",
    "page_size = 5\n",
    "\n",
    "# indicator that there are more pages\n",
    "more_pages = True\n",
    "\n",
    "#keep track of pages already requested\n",
    "page_count = 1\n",
    "\n",
    "# let's save off all our substance jsons in a dictionary\n",
    "# the keys will CAS Registry Numbers since they are unique\n",
    "substance_results = {}\n",
    "\n",
    "# we'll make all our requests to get all the results\n",
    "while more_pages:\n",
    "    request_url = f'{base_url}/{module}?str={target_smiles}&strMode={structure_search_type}&offset={offset}&length={page_size}'\n",
    "\n",
    "    # make request (remember we are reusing our headers with our access token from above)\n",
    "    resp = requests.get(request_url, headers=headers)\n",
    "\n",
    "    # reusing the response_json variable\n",
    "    response_json = resp.json()\n",
    "\n",
    "    # retrieve the number of results\n",
    "    result_count = response_json['count']\n",
    "\n",
    "    #Do we need more pages?\n",
    "    if result_count/page_size <= page_count:\n",
    "        print(f'There are {result_count} results')\n",
    "        more_pages = False\n",
    "    else:\n",
    "        page_count += 1\n",
    "        more_pages = False\n",
    "\n",
    "    # increment to get the next page\n",
    "    offset += page_size\n",
    "\n",
    "    # add this page's results\n",
    "    for substance in response_json['substances']:\n",
    "        substance_results[substance['casRn']] = [substance['canonicalSmiles'], substance['suppliersCount'], substance['uri'], substance['molecularFormula']]\n",
    "\n",
    "# let's print them perty\n",
    "pprint(substance_results)"
   ]
  },
  {
   "cell_type": "markdown",
   "id": "2060e4461d4b57e1",
   "metadata": {},
   "source": [
    "<a id=Markush_Query></a>\n",
    "## Constructing a Markush Query\n",
    "\n",
    "In order to check if the structure has been covered by any [Markush structures](https://en.wikipedia.org/wiki/Markush_structure), a search of the CAS [Markush database](https://www.cas.org/support/training/scifinder-n/markush-results) is necessary.  Using the Markush endpoint in the API (_module necessary_) and the _str_ query like we used for a Registry structure search."
   ]
  },
  {
   "cell_type": "code",
   "execution_count": null,
   "id": "e4c94ac2134845bb",
   "metadata": {
    "ExecuteTime": {
     "end_time": "2025-03-06T04:31:07.555166200Z",
     "start_time": "2025-03-06T04:31:07.279375200Z"
    }
   },
   "outputs": [],
   "source": [
    "# we will use the markush module to conduct a markush search\n",
    "module = 'markush'\n",
    "\n",
    "# create request url\n",
    "request_url = f'{base_url}/{module}?str={target_smiles}&offset={offset}&length={page_size}'\n",
    "\n",
    "# make request (remember we are reusing our headers with our access token from above)\n",
    "resp = requests.get(request_url, headers=headers)\n",
    "\n",
    "# reusing the response_json variable\n",
    "response_json = resp.json()\n",
    "\n"
   ]
  },
  {
   "cell_type": "markdown",
   "id": "6c5a2604acd1c01d",
   "metadata": {},
   "source": [
    "<a id=\"Display_Markush_Results\"></a>\n",
    "## Display Results of Markush Search ##\n",
    "\n",
    "To complete our use case we will print out the Patent Number, the patent location (claim), the Patent Title and a hit assembled display which matches the query with the raw Markush representation from MARPAT."
   ]
  },
  {
   "cell_type": "code",
   "execution_count": null,
   "id": "163a9484e318f8fc",
   "metadata": {
    "ExecuteTime": {
     "end_time": "2025-03-06T04:31:08.321298700Z",
     "start_time": "2025-03-06T04:31:07.555166200Z"
    }
   },
   "outputs": [],
   "source": [
    "# If the result returns a non-zero count . . .\n",
    "if response_json['count']:\n",
    "\n",
    "    # output number of results\n",
    "    print('There are ' + str(response_json['count']) + ' hit records')\n",
    "\n",
    "    # grab the answers from the response\n",
    "    markush_answers = response_json['markushAnswers']\n",
    "\n",
    "    # keep track of result number ordinal\n",
    "    result_ordinal = 1\n",
    "\n",
    "    # look at each document in the results\n",
    "    for answer in markush_answers:\n",
    "        #output the ordinal and patent number of this result\n",
    "        print(str(result_ordinal) + ') ' + str(answer['patentNumber']))\n",
    "\n",
    "        # in order to get document title, we must request a document detail\n",
    "        module = 'documents'\n",
    "\n",
    "        # request the title for this document.  Note: Need to encode the uri\n",
    "        encoded_uri = urllib.parse.quote(answer['documentUri'], safe='')\n",
    "\n",
    "        # create request url\n",
    "        docRequest = f'{base_url}/{module}/{encoded_uri}'\n",
    "\n",
    "        # make request (remember we are reusing our headers with our access token from above)\n",
    "        resp = requests.get(docRequest, headers=headers)\n",
    "\n",
    "        # get the json from the response\n",
    "        docResponse = resp.json()\n",
    "\n",
    "        # output document hit information\n",
    "        print('title: ' + docResponse['document']['title'])\n",
    "        print('in: ' + str(answer['patentLocation']))\n",
    "\n",
    "        structure = answer['structure']\n",
    "\n",
    "        component = structure['component']\n",
    "\n",
    "        # each structure may have several components\n",
    "        for  sub_component in component:\n",
    "            # retrieve the svg for this component\n",
    "            comp_svg = sub_component['svg']\n",
    "\n",
    "            #display the image if present\n",
    "            if comp_svg is not None:\n",
    "                display(SVG(comp_svg))\n",
    "            else:\n",
    "                print(\"No image available\")\n",
    "\n",
    "        # increment our result ordinal\n",
    "        result_ordinal += 1\n",
    "else:\n",
    "    print(\"There are zero results\")"
   ]
  },
  {
   "cell_type": "markdown",
   "id": "a7c363ed2bf4ab3d",
   "metadata": {},
   "source": [
    "<a id=\"Appendix\"></a>\n",
    "# Appendix #\n",
    "<a id=\"Substance_Request\"></a>\n",
    "## Substance Request ##\n",
    "\n",
    "See [Substance Module](API_Substance.html#Substance_Request) for details\n",
    "\n",
    "<a id=\"Substance_Response\"></a>\n",
    "## Substance Response ##\n",
    "\n",
    "See [Substance Module](API_Substance.html#Search_Response) for details\n"
   ]
  },
  {
   "cell_type": "markdown",
   "id": "14386e86a501be34",
   "metadata": {},
   "source": [
    "<a id=\"Markush_Request\"></a>\n",
    "## Markush Request ##\n",
    "A request for Markush information can be defined using the following parameters\n",
    "\n",
    "The endpoint is `https://helium.cas.org/integration/v1/markush` with the following parameters:\n",
    "\n",
    ">**str** - is a *chemical structure query*\n",
    "> This query can be a molfile, SMILES, InChI, or CXF JSON (exported by structure editor in SciFinder or STN). Maximum length is 20000.\n",
    "> *Note that this must be a URL encoded string*\n",
    "> *This parameter must be present*\n",
    "\n",
    ">**offset** is the *offset* from the start of the result set to be returned in the response.\n",
    "> This offset indicates which ordinal to start returning results.  Along with the `length` parameter a \"page\" of answers can be defined.\n",
    "> _Default: 0, minimum: 0_\n",
    "\n",
    ">**length** is the *maximum number of results* to be returned in the response.\n",
    "> This length indicates the maximum number of results to return starting at the 'offset' parameter.\n",
    "> _Default: 100, minimum: 0, maximum: 100_\n",
    "\n",
    ">**echo** is an indication of whether the response should contain the request parameters in the response.\n",
    "> When set to true the response will contain a `request` attribute\n",
    "> _Default: false_\n",
    "\n",
    "\n",
    "### Example ###\n",
    "```\n",
    "'https://helium.cas.org/integration/v1/markush?str=O=C1C2=C(N=CN2C)N(C(=O)N1C)C \\\n",
    "    &offset=0 \\\n",
    "    &echo=False \\\n",
    "    &length=5'\n",
    "```"
   ]
  },
  {
   "cell_type": "markdown",
   "id": "53f1c421d3d24453",
   "metadata": {},
   "source": [
    "<a id=\"Markush_Response\"></a>\n",
    "## Markush Search Response JSON ##\n",
    "Results of a Markush search.  The response is in [JSON](https://en.wikipedia.org/wiki/JSON#Syntax) format\n",
    "\n",
    "The Search Response utilizes an additional important construct, a [Markush Summary](#Markush_Summary).\n",
    "\n",
    ">**count** is the *number of results* returned from the query.\n",
    "> *This count can be 0 or more*\n",
    "> *Note: This count is not the number of `markush hits` being returned in this response.*\n",
    "\n",
    ">**request** an array of *request parameters* from the original request.\n",
    "> The request parameters are defined above in the [Substance Request](Substance_Request) Appendix\n",
    "> *Note: This is only present if the request has the `echo` parameter set to `true`*\n",
    "\n",
    ">**markushAnswers** an array of *markush summaries* returned in the response\n",
    "> The number of `markushAnswers` is determined by the `length` parameter on the request or the count, whichever is less\n",
    "\n",
    "### Example ###\n",
    "```\n",
    "{'count': 1,\n",
    " 'request': {...},     # optional\n",
    " 'markushAnswers': [...]\n",
    " }\n",
    "```"
   ]
  },
  {
   "cell_type": "markdown",
   "id": "aa1faa9f414b98d6",
   "metadata": {},
   "source": [
    "<a id=\"Markush_Summary\"></a>\n",
    "## Markush Summary JSON ##\n",
    "This is the definition of a markush summary of MARPAT entries.  A Markush Summary contains many of the fields available for this Markush representation including a document URI for obtaining document information for the Markush representation\n",
    "\n",
    "The Substance Summary utilizes an additional important construct, a `structure`.  The `structure` is described in the [Markush Structure JSON](TODO) below.\n",
    "\n",
    "> **uri** is a unique key specific to the Integration API for this Markush representation.\n",
    ">this uri can be used to retrieve this record\n",
    "\n",
    "> **documentUri** is a unique key specific to the Integration API for the patent document where this Markush representation appeared.\n",
    ">this uri can be used to retrieve a detail record for the document.  Useful for retrieving the title, assignee, etc.  Consult the Document Module for more information\n",
    "\n",
    "> **patentLocation** is the claim number which this Markush representation relates to.\n",
    "> This usually provides a claim number but can sometimes return just \"claims\" without a number\n",
    "\n",
    "> **broaderDisclosure** I've already forgotten what this is.\n",
    "> TODO\n",
    "\n",
    "> **structure** is a construct to describe the substance with the *structural characteristics*\n",
    "> This is described below in the Markush JSON\n",
    "\n",
    "### Example ###\n",
    "```\n",
    "[{'broaderDisclosure': None,\n",
    "  'documentUri': 'document/pt/patent/65935126',\n",
    "  'patentLocation': 'claim 1',\n",
    "  'patentNumber': 'US20100087455',\n",
    "  'structure': {...},\n",
    "  'uri': 'markush/pt/patent/65935126/1/1'},\n",
    "]\n",
    "```\n"
   ]
  }
 ],
 "metadata": {
  "kernelspec": {
   "display_name": ".venv",
   "language": "python",
   "name": "python3"
  },
  "language_info": {
   "codemirror_mode": {
    "name": "ipython",
    "version": 3
   },
   "file_extension": ".py",
   "mimetype": "text/x-python",
   "name": "python",
   "nbconvert_exporter": "python",
   "pygments_lexer": "ipython3",
   "version": "3.13.2"
  }
 },
 "nbformat": 4,
 "nbformat_minor": 5
}
