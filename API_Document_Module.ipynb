{
 "cells": [
  {
   "cell_type": "markdown",
   "id": "791d6764-e1e1-40f1-aadd-03f8bf31fa54",
   "metadata": {},
   "source": [
    "# CAS API Document Module\n",
    "\n",
    "The CAS API supports workflow integration, chemical research, machine learning, and cheminformatics.  Learn more about workflow integration solutions from __[CAS Custom Services℠](https://www.cas.org/cas-custom-services).__\n",
    "\n",
    "This documentation is provided as a demonstration of some of the capabilities available in the Document Module of the CAS API.  Please contact CAS Custom Services for more information about licensing.  The __[Swagger page](https://helium.cas.org/integration/v1/api-docs/)__ for multiple endpoints is also available as reference.\n",
    "\n",
    "We will be accessing the [CAS Reference Collection](https://www.cas.org/cas-data/cas-references)\n",
    "\n",
    "__[Terms of service](https://brandcdn.cas.org/G2HB3KG8/as/kwvzg9mcr7tkkct5fnm35nk/cas-api-content-terms)__\n",
    "\n",
    "### Table of Contents\n",
    "[Getting Started](#Getting_Started)\n",
    "\n",
    "[Document Lookup by Document_Identifier](#Document_Lookup)\n",
    "- [Construct Query](#Construct_Query)\n",
    "- [Display Document Information](#Display)\n",
    "- [Substance Count](#Substance_Count)\n",
    "- [Substances Associated with a Document](#Substances_Associated_with_a_Document)\n",
    "\n",
    "[Document Details](#Document_Details)\n",
    "\n",
    "[Document Search by Structure](#Document_Search_by_Structure)\n",
    "\n",
    "[Appendix](#Appendix)\n",
    "- [Document Request](#Document_Request)\n",
    "- [Document Response](#Document_Response)\n",
    "- [Document Summary JSON](#Document_Summary)\n",
    "- [Available Facets](#Document_Facets)"
   ]
  },
  {
   "cell_type": "markdown",
   "id": "bcfbea88",
   "metadata": {},
   "source": [
    "<a id=\"Getting_Started\"></a>\n",
    "## Getting Started\n",
    "<a id=\"Authentication\"></a>\n",
    "### Authentication\n",
    "__To begin utilizing the CAS API, you will first need valid credentials.__  The CAS API handles authorization via __[OAuth2.0](https://oauth.net/2/)__.  The easiest way to authenticate is with a _client ID_ and _client secret_ which can be provided by CAS Custom Services.\n",
    "\n",
    "To make any request of the API you will need an access token. The access token represents the authorization to access specific parts of CAS' data.  There are several modules available to CAS Integration API users.  Depending on your specific setup, you will have access to all or some of the following capabilities.  For question about your modules, contact CAS Custom Services.\n",
    "<a id=\"Import_Libraries\"></a>\n",
    "### Import libraries"
   ]
  },
  {
   "cell_type": "code",
   "execution_count": null,
   "id": "92293c09",
   "metadata": {
    "ExecuteTime": {
     "end_time": "2025-03-06T03:51:46.936672600Z",
     "start_time": "2025-03-06T03:51:46.844801400Z"
    }
   },
   "outputs": [],
   "source": [
    "import http.client\n",
    "import requests\n",
    "from pprint import pprint\n",
    "import json\n",
    "import urllib"
   ]
  },
  {
   "cell_type": "markdown",
   "id": "875ad844",
   "metadata": {},
   "source": [
    "<a id=\"Set_Credentials\"></a>\n",
    "### Set your supplied credentials from CAS\n",
    "\n",
    "You will need to enter your companies' client id and secret provided by CAS Custom Services.\n"
   ]
  },
  {
   "cell_type": "code",
   "execution_count": null,
   "id": "b89e9d3e",
   "metadata": {
    "ExecuteTime": {
     "end_time": "2025-03-06T03:51:46.939671900Z",
     "start_time": "2025-03-06T03:51:46.848801500Z"
    }
   },
   "outputs": [],
   "source": [
    "# Input Client ID and Client Secret credentials supplied to you by CAS\n",
    "\n",
    "clientID = input(\"Please input your client ID.\")\n",
    "secret = input(\"Please input your client secret.\")"
   ]
  },
  {
   "cell_type": "markdown",
   "id": "ea86dd2c",
   "metadata": {},
   "source": [
    "<a id=\"Authorization_Method\"></a>\n",
    "### Authorization Method\n",
    "\n",
    "_The recommended method requires a user to access their _client ID_ and  _client secret_  as variables in the code they wish to run the workflow. The workflow requires programmatic submission of the users credentials to obtain an Access Token. This can be used for the duration of the execution of the workflow._\n",
    "\n",
    "_If the workflow is expected to run for a duration of longer than 24 hours, the user must add code that will periodically update the Access token before it expires. Failure to do this may result in some or all of the requests after the 24-hour period returning a 401 error._\n",
    "<a id=\"Request_Access_Token\"></a>\n",
    "> **Request your Access Token** "
   ]
  },
  {
   "cell_type": "markdown",
   "id": "23ca87ab1f20a9b3",
   "metadata": {},
   "source": [
    "**Definitions**\n",
    "> **Client ID** is an Organizational-level ID.  Used to initially validate the Organization of a User of the CAS API.  This ID will be provided by a member of CAS Custom Services upon start of the contract.\n",
    ">\n",
    "> **Client Secret** is an Organizational-level password/secret.  Used to initially authenticate the Organization of User of the CAS API.  This ID will be provided by a member of CAS Custom Services upon start of the contract.\n",
    ">\n",
    "> **Access Token** (_Also known as the Bearer Token_) is a daily token allowing access to the CAS API.  The Access token is passed with a POST or GET request to allow a User to authenticate requests and retrieve data.  This token is valid for _**24 hours**_ from its creation or until a new Access Token is generated via a new request."
   ]
  },
  {
   "cell_type": "code",
   "execution_count": null,
   "id": "012dab2e",
   "metadata": {
    "ExecuteTime": {
     "end_time": "2025-03-06T03:51:47.065812500Z",
     "start_time": "2025-03-06T03:51:46.856671800Z"
    }
   },
   "outputs": [],
   "source": [
    "# specify the content type in the header\n",
    "headers = {'Content-Type': 'application/x-www-form-urlencoded'}\n",
    "\n",
    "# insert credentials specified above into payload sent OAuth\n",
    "payload = ('grant_type=client_credentials&client_id=' + clientID + '&scope=cas_content%20&client_secret='\n",
    "            + secret)\n",
    "\n",
    "# create a connection\n",
    "conn = http.client.HTTPSConnection(\"sso.cas.org\")\n",
    "\n",
    "# make our request\n",
    "conn.request(\"POST\", \"/as/token.oauth2\", payload, headers)\n",
    "\n",
    "# retrieve the response and read it\n",
    "res = conn.getresponse()\n",
    "data = res.read()\n",
    "\n",
    "# read the json and store in a dictionary\n",
    "response = data.decode(\"utf-8\")\n",
    "response_json = json.loads(response)\n",
    "\n",
    "# print POST Response (JSON)\n",
    "pprint(response_json)\n",
    "print()\n",
    "\n",
    "# hold onto this token, we'll need it for future requests to Integration API\n",
    "access_token = response_json['access_token']"
   ]
  },
  {
   "cell_type": "markdown",
   "id": "dd270714-c6db-4bf4-abf2-a2b1c861c52e",
   "metadata": {},
   "source": [
    "<a id=\"Document_Lookup\"></a>\n",
    "## Use Case: Document Lookup by Document Identifier & Document Details\n",
    "\n",
    "We are interested in searching for a specific patent.  We would like to know who requested patent protection and obtain other important details, such as the abstract.\n",
    "\n",
    "\n",
    "<a id=\"Construct_Query\"></a>\n",
    "### Construct our Query\n",
    "We will look for a specific patent, 'WO2018237389', by doing a query against the document collection.  You can also use other document identifiers such as, DOI, Patent Application Number, Accession Number, CAS Accession Number, or Pubmed ID.\n"
   ]
  },
  {
   "cell_type": "code",
   "execution_count": null,
   "id": "313bc4bb",
   "metadata": {
    "ExecuteTime": {
     "end_time": "2025-03-06T03:51:47.210895600Z",
     "start_time": "2025-03-06T03:51:47.066811800Z"
    }
   },
   "outputs": [],
   "source": [
    "# make sure our access token is present on requests and that we will receive JSON in return\n",
    "headers = {'Content-Type': 'application/json',\n",
    "           'Authorization': 'Bearer {0}'.format(access_token)}\n",
    "base_url = 'https://helium.cas.org/integration/v1'\n",
    "\n",
    "# select the document module\n",
    "module = 'documents'\n",
    "\n",
    "# interested in the following patent number\n",
    "patent_number = 'WO2018237389'\n",
    "\n",
    "offset = 0\n",
    "length = 5\n",
    "\n",
    "# create request url\n",
    "docRequest = f'{base_url}/{module}?q={patent_number}&offset={offset}&length={length}&echo=false'\n",
    "\n",
    "# make request (remember we are reusing our headers with our access token from above)\n",
    "resp = requests.get(docRequest, headers=headers)\n",
    "\n",
    "# get the json from the response\n",
    "response_json = resp.json()\n",
    "\n",
    "pprint(response_json, depth=5)"
   ]
  },
  {
   "cell_type": "markdown",
   "id": "1b16d7d5",
   "metadata": {},
   "source": [
    "There are 5 records related to this patent which indicate patent family members.  We will display information about each patent.\n",
    "\n",
    "<a id=\"Display\"></a>\n",
    "### Display the document-uri, title, patent publication number, and publication date\n"
   ]
  },
  {
   "cell_type": "code",
   "execution_count": null,
   "id": "6c11b5b7",
   "metadata": {
    "ExecuteTime": {
     "end_time": "2025-03-06T03:51:47.216672800Z",
     "start_time": "2025-03-06T03:51:47.212895700Z"
    }
   },
   "outputs": [],
   "source": [
    "# pull out the document information\n",
    "\n",
    "for document in response_json['documents']:\n",
    "  print(\"Title:\" +document['title'] + \"\\n\" + \"Patent Number:\" +document['patentPublicationNumber'] + \"\\n\" + \"Publication Date:\" + document['publicationDate'] + \"\\n\")\n"
   ]
  },
  {
   "cell_type": "markdown",
   "id": "137404eb-c70a-4516-8f27-bcc27fba11ff",
   "metadata": {},
   "source": [
    "<a id=\"Substance_Count\"></a>\n",
    "### Substance Count\n",
    "\n",
    "In order to obtain the substance count for a specific document we will need to extract the document uri and build a query for a different endpoint."
   ]
  },
  {
   "cell_type": "code",
   "execution_count": null,
   "id": "3c93770e-a458-4a37-93b0-5120de0b92ad",
   "metadata": {
    "ExecuteTime": {
     "end_time": "2025-03-06T03:51:47.368319800Z",
     "start_time": "2025-03-06T03:51:47.218672800Z"
    }
   },
   "outputs": [],
   "source": [
    "# obtain the first document-uri from the above response_json\n",
    "doc_uri = response_json['documents'][0]['uri']\n",
    "patent_number = response_json['documents'][0]['patentPublicationNumber']\n",
    "print(patent_number)\n",
    "\n",
    "#encode the doc_uri\n",
    "doc_uri = urllib.parse.quote(doc_uri, safe='')\n",
    "\n",
    "# request count of substances associated with this document but no answers (length=0)\n",
    "# create request url (this is a different endpoint)\n",
    "count_req = f'{base_url}/{module}/{doc_uri}/substances?&offset={offset}&length={length}&echo=true'\n",
    "\n",
    "# make request (remember we are reusing our headers with our access token from above)\n",
    "resp = requests.get(count_req, headers=headers)\n",
    "\n",
    "# get the json from the response\n",
    "sub_count=resp.json()\n",
    "\n",
    "print()\n",
    "print('NUMBER OF SUBSTANCES:' + str(sub_count['count']))"
   ]
  },
  {
   "cell_type": "markdown",
   "id": "1e0c22d2d9479049",
   "metadata": {},
   "source": [
    "<a id=\"Substances_Associated_with_a_Document\"></a>\n",
    "### Substances Associated with a Document\n",
    "\n",
    "Once you have a document of interest, you may want to know which substances that CAS has determined exhibit the novelty of the paper or invention.  Let's use the previous example and build this endpoint."
   ]
  },
  {
   "cell_type": "code",
   "execution_count": null,
   "id": "75363af17c11f1c",
   "metadata": {
    "ExecuteTime": {
     "end_time": "2025-03-06T03:51:49.348321500Z",
     "start_time": "2025-03-06T03:51:47.369319900Z"
    }
   },
   "outputs": [],
   "source": [
    "# obtain document uri from the above response_json\n",
    "# change length to 100\n",
    "length = 100\n",
    "\n",
    "# create request url (this is a different endpoint)\n",
    "req_url = f'{base_url}/{module}/{doc_uri}/substances?&offset={offset}&length={length}&echo=true'\n",
    "\n",
    "# make request (remember we are reusing our headers with our access token from above)\n",
    "resp = requests.get(req_url, headers=headers)\n",
    "\n",
    "# get the json from the response\n",
    "response_json = resp.json()\n",
    "\n",
    "# parse substances from json\n",
    "for substance in response_json['substances']:\n",
    "    print(substance['casRn'] + \"||\" + str(substance['name']))\n"
   ]
  },
  {
   "cell_type": "markdown",
   "id": "1a7cf4c7784c6f0a",
   "metadata": {},
   "source": [
    "<a id=\"Document_Search_by_Structure\"></a>\n",
    "## Use Case: Document Search by Structure\n",
    "\n",
    "You can also use a particular structure input such as a SMILES string to do a structure search across all structures within documents.  Here we can parse to get all documents that are returned with that search, or we can just print out the count of documents.  For brevity, only 2 documents are output."
   ]
  },
  {
   "cell_type": "code",
   "execution_count": null,
   "id": "9bccb0f0a06f39da",
   "metadata": {
    "ExecuteTime": {
     "end_time": "2025-03-06T03:51:49.746714500Z",
     "start_time": "2025-03-06T03:51:49.542260600Z"
    }
   },
   "outputs": [],
   "source": [
    "# our target structure\n",
    "target_smiles = ('CC(C)(C)[Si](C)(C)O[C@H]1C[C@@H](O)C1')\n",
    "\n",
    "#encode the target_smiles\n",
    "target_smiles = urllib.parse.quote(target_smiles, safe='')\n",
    "\n",
    "#specify an \"As Drawn\" search\n",
    "structure_search_type = 'drw'\n",
    "\n",
    "request_url = f'{base_url}/{module}?str={target_smiles}&strMode={structure_search_type}'\n",
    "\n",
    "# make request\n",
    "resp = requests.get(request_url, headers=headers)\n",
    "\n",
    "# reusing the response_json variable\n",
    "response_json = resp.json()\n",
    "\n",
    "pprint('Document Count:' + str(response_json['count']))\n",
    "truncated_resp = response_json['documents'][:2]\n",
    "pprint(truncated_resp)"
   ]
  },
  {
   "cell_type": "markdown",
   "id": "0b299f91",
   "metadata": {},
   "source": [
    "<a id=\"Appendix\"></a>\n",
    "# Appendix #\n",
    "<a id=\"Document_Request\"></a>\n",
    "## Document Request ##\n",
    "A request for Document information can be defined using the following parameters\n",
    "\n",
    "The endpoint is `https://helium.cas.org/integration/v1/documents` with the following parameters:\n",
    "\n",
    ">**q** is a *query string* used for DOI (Digital Object Identifier), Patent Number, Patent Application Number, Accession Number, CAS Accession Number or Pubmed ID to search by.\n",
    "> *This parameter can only be used if the `str` parameter is absent*\n",
    "\n",
    ">**str** - is a *chemical structure query*\n",
    "> This query can be a molfile, SMILES, InChI, or CXF JSON (exported by structure editor in SciFinder or STN). Maximum length is 20000.\n",
    "> *Note that this must be a URL encoded string*\n",
    "> *This parameter can only be used if the `q` parameter is absent*\n",
    "\n",
    ">**strMode** is the *type of structure search* to be conducted.\n",
    "> There are three options: `drw` (As Drawn), `sub` (Substructure), or `sim` (Similarity).\n",
    "> *This parameter can only be used if the `str` parameter is defined*\n",
    "> _Default: `drw`\n",
    "\n",
    ">**offset** is the *offset* from the start of the result set to be returned in the response.\n",
    "> This offset indicates which ordinal to start returning results.  Along with the `length` parameter a \"page\" of answers can be defined.\n",
    "> _Default: 0, minimum: 0_\n",
    "\n",
    ">**length** is the *maximum number of results* to be returned in the response.\n",
    "> This length indicates the maximum number of results to return starting at the 'offset' parameter.\n",
    "> _Default: 100, minimum: 0, maximum: 100_\n",
    "\n",
    ">**echo** is an indication of whether the response should contain the request parameters in the response.\n",
    "> When set to true the response will contain a `request` attribute\n",
    "> _Default: false_\n",
    "\n",
    ">**strHighlight** is an indication of whether *structure highlighting* should be shown in the structure images (svg) returned\n",
    "> When set to `true`, the structure images (svg) returned will be highlighted.\n",
    "> _This parameter can only be used if the `str` parameter is defined_\n",
    "> _Default is false_\n",
    "\n",
    ">**facet** is an indication of whether to return the *facets* in the response.\n",
    "> Facets summarize the results by slicing into facet bins.  Each facet bin will indicate the number of results in that bin.\n",
    "> When set to true, the response will contain a list of faceted bins.\n",
    "> _Default is false_\n",
    "\n",
    ">**fq** is an array of *facet queries*.\n",
    " > A facet query that can be used to filter results. Multiple filters can be combined (AND'ed) to make the constraints more restrictive (including more filters typically returns less results). This example shows 8a) Number of Components:1 and 8b) Similarity Score:>=99.\n",
    "\n",
    "### Example ###\n",
    "```\n",
    "https://helium.cas.org/integration/v1/documents?q=WO2018237389 \\\n",
    "    &strMode=drw \\\n",
    "    &offset=0 \\\n",
    "    &length=10 \\\n",
    "    &echo=false \\\n",
    "    &facet=false\n",
    "\n",
    "```"
   ]
  },
  {
   "cell_type": "markdown",
   "id": "85683b36",
   "metadata": {},
   "source": [
    "<a id=\"Document_Response\"></a>\n",
    "## Document Search Response JSON ##\n",
    "Results of a document search.  The response is in [JSON](https://en.wikipedia.org/wiki/JSON#Syntax) format\n",
    "\n",
    "The Search Response utilizes an additional important construct, a [Document Summary](#Document_Summary).\n",
    "\n",
    ">**count** is the *number of results* returned from the query.\n",
    "> *This count can be 0 or more*\n",
    "> *Note: This count is not the number of `documents` being returned in this response.*\n",
    "\n",
    ">**facet** an array of *facets* for the result set.\n",
    "> Facets contain facet bins which are subdivided into small slices based on the values. Facets summarize the results by slicing into facet bins.  Each facet bin will indicate the number of results in that bin.\n",
    "> *Note: This is only present if the request has the `facet` parameter set to `true`*\n",
    "\n",
    ">**request** an array of *request parameters* from the original request.\n",
    "> The request parameters are defined above in the [Document Request](#Document_Request) Appendix\n",
    "> *Note: This is only present if the request has the `echo` parameter set to `true`*\n",
    "\n",
    ">**documents** an array of *document summaries* returned in the response\n",
    "> The number of `documents` is determined by the `length` parameter on the request or the count, whichever is less\n",
    "\n",
    "### Example ###\n",
    "```\n",
    "{'count': 1,\n",
    " 'documents': [...]\n",
    " }\n",
    "```"
   ]
  },
  {
   "cell_type": "markdown",
   "id": "4a1659e9-bb75-4c0d-8613-f3eb93e34413",
   "metadata": {},
   "source": [
    "<a id=\"Document_Summary\"></a>\n",
    "## Document Summary JSON\n",
    "\n",
    "A Document Summary contains important bibliographic information about a document.\n",
    "\n",
    ">**uri** is a unique key specific to the Integration API for this document. This uri can be used to retrieve a detail record for a document or the substances within this document.\n",
    "\n",
    ">**title** is the title of the document.\n",
    "\n",
    ">**primaryType** is the document type.  This can be a multitude of values; however, the most common are 'Patent' and 'Journal'.\n",
    "\n",
    ">**abstract** is a summary of the contents of the document.\n",
    "\n",
    ">**publicationTitle** is the title of the publication, typically present for non-patents. (Ex. Journal of American Chemical Society)\n",
    "\n",
    ">**database** is the collection which contains the document.\n",
    "\n",
    ">**doi** is a persistent identifier or handle used to identify documents uniquely.\n",
    "  \n",
    ">**accessionNumber** is a document identifier used to represent a document as it enters the CAplus database.\n",
    "\n",
    ">**casAccessionNumber** is a document identifier used to represent a document which has been completely indexed.\n",
    "\n",
    ">**pubmedID** is a document identifier associated with a document from the Medline collection.\n",
    "\n",
    ">**publicationDate** is the data in which the document was published.\n",
    "\n",
    ">**publicationYear** is the year in which the document was published.\n",
    "\n",
    ">**volume** is the number of years a journal has been in publication.\n",
    "\n",
    ">**issue** is the number of individual publications during the year.\n",
    "\n",
    ">**pages** are the numbers or marks used to indicate the sequence of pages of a document.\n",
    "\n",
    ">**authors** represents the writer(s) of the document.\n",
    "\n",
    ">**companyOrganization** represents the affiliation of the author.\n",
    "\n",
    ">**inventors** represents the corporate body or person who invented the subject matter of a patent.\n",
    "\n",
    ">**assignees** represents the corporate body or person who owns the industrial property rights of a patent.\n",
    "\n",
    ">**patentOffice** is the country in which the patent was filed.\n",
    "\n",
    ">**patentPublicationNumber** is a number identifier that is assigned to a patent application when it is published.\n",
    "\n",
    ">**patentApplicationNumber** is a number identifier that is assigned to a patent application when it is filed.\n",
    "\n",
    ">**patentKindCode** is a letter, and in many cases a number, used to distinguish the kind of patent document. (Ex. A1)\n",
    "\n",
    "\n"
   ]
  },
  {
   "cell_type": "markdown",
   "id": "5f44f125-8180-412f-a0c0-b33efd532aae",
   "metadata": {},
   "source": [
    "<a id=\"Document_Facets\"></a>\n",
    "## Available Facets "
   ]
  },
  {
   "cell_type": "markdown",
   "id": "1eaa7cf3c1b8c286",
   "metadata": {},
   "source": [
    "<div class=\"alert alert-block alert-success\">\n",
    "<b>Tip:</b> Facets need to be URL encoded.\n",
    "</div>\n",
    "\n",
    ">Use of a facet within a query is constructed as follows:\n",
    ">>Facet Name:Value\n",
    ">>Example: facet=true&fq=Document Type:Patent (Encoded: facet=true&fq=Document%20Type%3APatent)\n",
    "\n",
    "#### Document Type\n",
    "> **Patent**\n",
    "> \n",
    "> **Journal**\n",
    "> \n",
    "> **Book**\n",
    "> \n",
    "> **Dissertation**\n",
    "> \n",
    "> **Preprint**\n",
    "> \n",
    "> **Report**\n",
    "> \n",
    "> **Review**\n",
    "> \n",
    "> **Letter**\n",
    "> \n",
    "> **Historical**\n",
    "> \n",
    "> **Editorial**\n",
    "> \n",
    "> **Conference**\n",
    "> \n",
    "> **Commentary**\n",
    "> \n",
    "> **Clinical Trial**\n",
    "> \n",
    "> **Biography**"
   ]
  },
  {
   "cell_type": "code",
   "execution_count": null,
   "id": "4756c2b01f2196f1",
   "metadata": {
    "ExecuteTime": {
     "end_time": "2025-03-06T03:51:49.748714600Z",
     "start_time": "2025-03-06T03:51:49.746714500Z"
    }
   },
   "outputs": [],
   "source": []
  }
 ],
 "metadata": {
  "kernelspec": {
   "display_name": ".venv",
   "language": "python",
   "name": "python3"
  },
  "language_info": {
   "codemirror_mode": {
    "name": "ipython",
    "version": 3
   },
   "file_extension": ".py",
   "mimetype": "text/x-python",
   "name": "python",
   "nbconvert_exporter": "python",
   "pygments_lexer": "ipython3",
   "version": "3.12.7"
  }
 },
 "nbformat": 4,
 "nbformat_minor": 5
}
